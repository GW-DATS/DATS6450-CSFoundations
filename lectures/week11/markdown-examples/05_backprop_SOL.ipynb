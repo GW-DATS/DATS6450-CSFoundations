{
 "cells": [
  {
   "cell_type": "markdown",
   "metadata": {},
   "source": [
    "# Exercise 1. \n",
    "\n",
    "Write a Python script to implement the backpropagation algorithm for a 1− $S^{1}$−1 network. \n",
    "\n",
    "Write the program using matrix operations. Choose the initial weights and biases to be random numbers *uniformly* distributed between -0.5 and 0.5, and train the network to approximate the function:\n",
    "\n",
    "$g(p) = e^{-\\vert p \\vert}\\sin(\\pi p)$ for $−2 \\leq p \\leq 2$\n",
    "\n",
    "Use $S^{1}=2$ and $S^{1}=10$. Experiment with several different values for the learning rate, $\\alpha$, and use several different initial conditions. Discuss the convergence properties of the algorithm as the learning rate changes.\n",
    "\n",
    "Plot the trained networks with the network outputs. Compare them. Check the squared error for each epochs."
   ]
  },
  {
   "cell_type": "code",
   "execution_count": 1,
   "metadata": {
    "collapsed": true
   },
   "outputs": [],
   "source": [
    "# import required packages\n",
    "import numpy as np\n",
    "import matplotlib.pyplot as plt\n",
    "plt.style.use('ggplot')\n",
    "%matplotlib inline"
   ]
  },
  {
   "cell_type": "code",
   "execution_count": 2,
   "metadata": {
    "collapsed": true
   },
   "outputs": [],
   "source": [
    "# define the transfer functions we need for our network\n",
    "\n",
    "# logsig transfer function\n",
    "def logsig(n):\n",
    "    return 1 / (1 + np.exp(-n))\n",
    "\n",
    "# purelin transfer function\n",
    "def purelin(n):\n",
    "    return n"
   ]
  },
  {
   "cell_type": "code",
   "execution_count": 3,
   "metadata": {
    "collapsed": true
   },
   "outputs": [],
   "source": [
    "# define the gradients of the transfer functions\n",
    "\n",
    "# logsig transfer function\n",
    "def logsig_grad(a): \n",
    "    return (1 - a) * a\n",
    "\n",
    "# purelin transfer function\n",
    "def purelin_grad(a): \n",
    "    return 1"
   ]
  },
  {
   "cell_type": "code",
   "execution_count": 4,
   "metadata": {
    "collapsed": true
   },
   "outputs": [],
   "source": [
    "# generate linearly spaced inputs in the range [-2, 2]\n",
    "p = np.linspace(start=-2, stop=2, num=100)\n",
    "# make the inputs 2D so we can specify input dimensions\n",
    "p = p.reshape(-1,1)"
   ]
  },
  {
   "cell_type": "code",
   "execution_count": 5,
   "metadata": {
    "collapsed": true
   },
   "outputs": [],
   "source": [
    "# get targets by using function to approximate, g(p)\n",
    "g = np.exp(-np.abs(p))*np.sin(np.pi*p)"
   ]
  },
  {
   "cell_type": "code",
   "execution_count": 6,
   "metadata": {},
   "outputs": [
    {
     "data": {
      "image/png": "[encoded data removed]",
      "text/plain": [
       "<Figure size 576x432 with 1 Axes>"
      ]
     },
     "metadata": {},
     "output_type": "display_data"
    }
   ],
   "source": [
    "plt.figure(figsize=(8,6))\n",
    "plt.plot(p, g, label='$g(p)$')\n",
    "plt.xlabel('p')\n",
    "plt.ylabel('$g(p)$')\n",
    "plt.title('Function to approximate')\n",
    "plt.show()"
   ]
  },
  {
   "cell_type": "markdown",
   "metadata": {},
   "source": [
    "**Recall.** When we have a 3-layer Perceptron, we say it is an $R-S^{1}-S^{2}-S^{3}$ network. Since our network is a $1-S^{1}-1$ network, we know $R=1$ and $S^{2}=1$. We let $S^{1}$ fluctuate "
   ]
  },
  {
   "cell_type": "code",
   "execution_count": 7,
   "metadata": {
    "collapsed": true
   },
   "outputs": [],
   "source": [
    "# number of features\n",
    "R = p.shape[1]"
   ]
  },
  {
   "cell_type": "markdown",
   "metadata": {},
   "source": [
    "## Part 1. $S^{1} = 2$"
   ]
  },
  {
   "cell_type": "code",
   "execution_count": 8,
   "metadata": {
    "collapsed": true
   },
   "outputs": [],
   "source": [
    "# number of neurons in the hidden layer\n",
    "S1 = 2\n",
    "# number of neurons in the output layer\n",
    "S2 = 1"
   ]
  },
  {
   "cell_type": "code",
   "execution_count": 9,
   "metadata": {
    "collapsed": true
   },
   "outputs": [],
   "source": [
    "# set the seed\n",
    "np.random.seed(0)\n",
    "\n",
    "# randomly initialize weights\n",
    "W1 = np.random.uniform(low=-0.5,high=0.5,size=(S1,R))\n",
    "# randomly initialize bias\n",
    "b1 = np.random.uniform(low=-0.5,high=0.5,size=(S1,1))\n",
    "W2 = np.random.uniform(low=-0.5,high=0.5,size=(S2,S1))\n",
    "b2 = np.random.uniform(low=-0.5,high=0.5,size=(S2,1))"
   ]
  },
  {
   "cell_type": "code",
   "execution_count": 10,
   "metadata": {
    "collapsed": true
   },
   "outputs": [],
   "source": [
    "# learning rate, alpha\n",
    "alpha = 0.01\n",
    "# epochs\n",
    "epochs = 1300"
   ]
  },
  {
   "cell_type": "code",
   "execution_count": 11,
   "metadata": {
    "collapsed": true
   },
   "outputs": [],
   "source": [
    "# initialize a zero vector of errors for each output-target\n",
    "\n",
    "# error vector for each input\n",
    "e = np.zeros(len(p))\n",
    "# error vector for MSE in each epoch\n",
    "MSE = np.zeros(shape=(1,epochs))"
   ]
  },
  {
   "cell_type": "markdown",
   "metadata": {},
   "source": [
    "### Walk through the process for one input"
   ]
  },
  {
   "cell_type": "code",
   "execution_count": 12,
   "metadata": {},
   "outputs": [
    {
     "data": {
      "text/plain": [
       "(2, 1)"
      ]
     },
     "execution_count": 12,
     "metadata": {},
     "output_type": "execute_result"
    }
   ],
   "source": [
    "W1.shape"
   ]
  },
  {
   "cell_type": "code",
   "execution_count": 13,
   "metadata": {},
   "outputs": [
    {
     "data": {
      "text/plain": [
       "(2, 1)"
      ]
     },
     "execution_count": 13,
     "metadata": {},
     "output_type": "execute_result"
    }
   ],
   "source": [
    "b1.shape"
   ]
  },
  {
   "cell_type": "code",
   "execution_count": 14,
   "metadata": {},
   "outputs": [
    {
     "data": {
      "text/plain": [
       "array([-2.])"
      ]
     },
     "execution_count": 14,
     "metadata": {},
     "output_type": "execute_result"
    }
   ],
   "source": [
    "# example input \n",
    "p[0]"
   ]
  },
  {
   "cell_type": "code",
   "execution_count": 384,
   "metadata": {},
   "outputs": [
    {
     "data": {
      "text/plain": [
       "(1,)"
      ]
     },
     "execution_count": 384,
     "metadata": {},
     "output_type": "execute_result"
    }
   ],
   "source": [
    "p[0].shape"
   ]
  },
  {
   "cell_type": "code",
   "execution_count": 15,
   "metadata": {},
   "outputs": [
    {
     "data": {
      "text/plain": [
       "array([[-2.]])"
      ]
     },
     "execution_count": 15,
     "metadata": {},
     "output_type": "execute_result"
    }
   ],
   "source": [
    "p[0].reshape(-1,1)"
   ]
  },
  {
   "cell_type": "code",
   "execution_count": 16,
   "metadata": {},
   "outputs": [
    {
     "data": {
      "text/plain": [
       "(1, 1)"
      ]
     },
     "execution_count": 16,
     "metadata": {},
     "output_type": "execute_result"
    }
   ],
   "source": [
    "p[0].reshape(-1,1).shape"
   ]
  },
  {
   "cell_type": "code",
   "execution_count": 17,
   "metadata": {},
   "outputs": [
    {
     "name": "stdout",
     "output_type": "stream",
     "text": [
      "[[ 0.00513637]\n",
      " [-0.38549555]]\n"
     ]
    }
   ],
   "source": [
    "W1_test = W1\n",
    "W2_test = W2\n",
    "b1_test = b1\n",
    "b2_test = b2\n",
    "\n",
    "n1_test = W1_test * p[0] + b1_test\n",
    "print(n1_test)"
   ]
  },
  {
   "cell_type": "code",
   "execution_count": 18,
   "metadata": {},
   "outputs": [
    {
     "data": {
      "text/plain": [
       "(2, 1)"
      ]
     },
     "execution_count": 18,
     "metadata": {},
     "output_type": "execute_result"
    }
   ],
   "source": [
    "a1_test = logsig(n1_test)\n",
    "a1_test.shape"
   ]
  },
  {
   "cell_type": "code",
   "execution_count": 19,
   "metadata": {},
   "outputs": [
    {
     "data": {
      "text/plain": [
       "(1, 1)"
      ]
     },
     "execution_count": 19,
     "metadata": {},
     "output_type": "execute_result"
    }
   ],
   "source": [
    "n2_test = W2_test.dot(a1_test) + b2_test\n",
    "n2_test.shape"
   ]
  },
  {
   "cell_type": "code",
   "execution_count": 21,
   "metadata": {},
   "outputs": [
    {
     "data": {
      "text/plain": [
       "array([[-0.04162518]])"
      ]
     },
     "execution_count": 21,
     "metadata": {},
     "output_type": "execute_result"
    }
   ],
   "source": [
    "a2_test = purelin(n2_test)\n",
    "a2_test"
   ]
  },
  {
   "cell_type": "code",
   "execution_count": 22,
   "metadata": {},
   "outputs": [
    {
     "name": "stdout",
     "output_type": "stream",
     "text": [
      "[[ 0.04162518]]\n"
     ]
    }
   ],
   "source": [
    "e_test = g[0] - a2_test\n",
    "print(e_test)"
   ]
  },
  {
   "cell_type": "code",
   "execution_count": 24,
   "metadata": {},
   "outputs": [
    {
     "data": {
      "text/plain": [
       "array([[ 0.24999835],\n",
       "       [ 0.24093736]])"
      ]
     },
     "execution_count": 24,
     "metadata": {},
     "output_type": "execute_result"
    }
   ],
   "source": [
    "logsig_gradient_test = logsig_grad(a1_test)\n",
    "logsig_gradient_test"
   ]
  },
  {
   "cell_type": "code",
   "execution_count": 25,
   "metadata": {},
   "outputs": [
    {
     "name": "stdout",
     "output_type": "stream",
     "text": [
      "(2, 2)\n",
      "[[ 0.24999835  0.        ]\n",
      " [ 0.          0.24093736]]\n"
     ]
    }
   ],
   "source": [
    "f1_dot_test = np.diagflat(logsig_gradient_test)\n",
    "print(f1_dot_test.shape)\n",
    "print(f1_dot_test)"
   ]
  },
  {
   "cell_type": "code",
   "execution_count": 26,
   "metadata": {},
   "outputs": [
    {
     "data": {
      "text/plain": [
       "1"
      ]
     },
     "execution_count": 26,
     "metadata": {},
     "output_type": "execute_result"
    }
   ],
   "source": [
    "f2_dot_test = purelin_grad(a2_test)\n",
    "f2_dot_test"
   ]
  },
  {
   "cell_type": "code",
   "execution_count": 27,
   "metadata": {},
   "outputs": [
    {
     "data": {
      "text/plain": [
       "array([[-0.08325035]])"
      ]
     },
     "execution_count": 27,
     "metadata": {},
     "output_type": "execute_result"
    }
   ],
   "source": [
    "s2_test = -2 * f2_dot_test * e_test\n",
    "s2_test"
   ]
  },
  {
   "cell_type": "code",
   "execution_count": 28,
   "metadata": {},
   "outputs": [
    {
     "data": {
      "text/plain": [
       "array([[ 0.00158893],\n",
       "       [-0.00292636]])"
      ]
     },
     "execution_count": 28,
     "metadata": {},
     "output_type": "execute_result"
    }
   ],
   "source": [
    "s1_test = f1_dot_test.dot(W2_test.transpose()) * s2_test\n",
    "s1_test"
   ]
  },
  {
   "cell_type": "code",
   "execution_count": 29,
   "metadata": {},
   "outputs": [
    {
     "data": {
      "text/plain": [
       "(1, 2)"
      ]
     },
     "execution_count": 29,
     "metadata": {},
     "output_type": "execute_result"
    }
   ],
   "source": [
    "W2_test = W2_test - alpha * s2_test * a1_test.transpose()\n",
    "W2_test.shape"
   ]
  },
  {
   "cell_type": "code",
   "execution_count": 30,
   "metadata": {},
   "outputs": [
    {
     "data": {
      "text/plain": [
       "(2, 1)"
      ]
     },
     "execution_count": 30,
     "metadata": {},
     "output_type": "execute_result"
    }
   ],
   "source": [
    "W1_test = W1_test - alpha * s1_test * p[0].transpose()\n",
    "W1_test.shape"
   ]
  },
  {
   "cell_type": "code",
   "execution_count": 31,
   "metadata": {},
   "outputs": [
    {
     "data": {
      "text/plain": [
       "(1, 1)"
      ]
     },
     "execution_count": 31,
     "metadata": {},
     "output_type": "execute_result"
    }
   ],
   "source": [
    "b2_test = b2_test - alpha * s2_test\n",
    "b2_test.shape"
   ]
  },
  {
   "cell_type": "code",
   "execution_count": 32,
   "metadata": {},
   "outputs": [
    {
     "data": {
      "text/plain": [
       "(2, 1)"
      ]
     },
     "execution_count": 32,
     "metadata": {},
     "output_type": "execute_result"
    }
   ],
   "source": [
    "b1_test = b1_test - alpha * s1_test\n",
    "b1_test.shape"
   ]
  },
  {
   "cell_type": "markdown",
   "metadata": {},
   "source": [
    "### Train the network"
   ]
  },
  {
   "cell_type": "code",
   "execution_count": 12,
   "metadata": {
    "collapsed": true
   },
   "outputs": [],
   "source": [
    "# ----------- Train the network -----------\n",
    "\n",
    "# for each epoch \n",
    "for epoch in range(epochs):\n",
    "    # for each input\n",
    "    for i in range(p.shape[0]):\n",
    "        # 1) propagate input forward\n",
    "        n1 = W1 * p[i] + b1\n",
    "        a1 = logsig(n1)\n",
    "        n2 = W2.dot(a1) + b2\n",
    "        a2 = purelin(n2)\n",
    "        # 2) calculate the error\n",
    "        # difference between g(p_{i}) and a2 (network output)\n",
    "        e[i] = g[i] - a2\n",
    "        # 3) Backprop sensitivities\n",
    "        g_logsig = logsig_grad(a1)\n",
    "        f1_dot = np.diagflat(g_logsig)\n",
    "        f2_dot = purelin_grad(a2)\n",
    "        s2 = -2 * f2_dot * e[i]\n",
    "        s1 = f1_dot.dot(W2.transpose()) * s2\n",
    "        # 4) Update weight and bias\n",
    "        W2 = W2 - alpha * s2 * a1.transpose()\n",
    "        W1 = W1 - alpha * s1 * p[i].transpose()\n",
    "        b2 = b2 - alpha * s2\n",
    "        b1 = b1 - alpha * s1\n",
    "    MSE[0, epoch] = e.transpose().dot(e)"
   ]
  },
  {
   "cell_type": "code",
   "execution_count": 13,
   "metadata": {},
   "outputs": [
    {
     "data": {
      "image/png": "[encoded data removed]",
      "text/plain": [
       "<Figure size 576x432 with 1 Axes>"
      ]
     },
     "metadata": {},
     "output_type": "display_data"
    }
   ],
   "source": [
    "plt.figure(figsize=(8,6))\n",
    "plt.plot(np.arange(1,epochs+1), MSE[0,:], ls='-')\n",
    "plt.title('Mean Square Error by Epoch, S = 2')\n",
    "plt.xlabel('Epoch')\n",
    "plt.ylabel('Mean Square Error')\n",
    "plt.show()"
   ]
  },
  {
   "cell_type": "code",
   "execution_count": 14,
   "metadata": {
    "collapsed": true
   },
   "outputs": [],
   "source": [
    "# empty vector for trained network output\n",
    "a_S2 = np.ones(shape=(p.shape))\n",
    "\n",
    "# calculate network output\n",
    "for i in range(p.shape[0]):\n",
    "    n1 = W1 * p[i] + b1\n",
    "    a1 = logsig(n1)\n",
    "    n2 = W2.dot(a1) + b2\n",
    "    a_S2[i] = purelin(n2)"
   ]
  },
  {
   "cell_type": "code",
   "execution_count": 15,
   "metadata": {},
   "outputs": [
    {
     "data": {
      "image/png": "[encoded data removed]",
      "text/plain": [
       "<Figure size 576x432 with 1 Axes>"
      ]
     },
     "metadata": {},
     "output_type": "display_data"
    }
   ],
   "source": [
    "plt.figure(figsize=(8,6))\n",
    "plt.plot(p, g, label='Actual', color='green')\n",
    "plt.plot(p, a_S2, label='Predicted', color='blue')\n",
    "plt.title(\"Network Approximation, S = 2\")\n",
    "plt.xlabel(\"p\")\n",
    "plt.ylabel(\"g(p)\")\n",
    "plt.xlim((-2,2))\n",
    "plt.ylim((-0.67, 0.67))\n",
    "plt.legend(loc='best')\n",
    "plt.show()"
   ]
  },
  {
   "cell_type": "markdown",
   "metadata": {},
   "source": [
    "## Part 1. $S^{1} = 10$"
   ]
  },
  {
   "cell_type": "code",
   "execution_count": 16,
   "metadata": {
    "collapsed": true
   },
   "outputs": [],
   "source": [
    "# number of neurons in the hidden layer\n",
    "S1 = 10\n",
    "# number of neurons in the output layer\n",
    "S2 = 1"
   ]
  },
  {
   "cell_type": "code",
   "execution_count": 17,
   "metadata": {
    "collapsed": true
   },
   "outputs": [],
   "source": [
    "# set the seed\n",
    "np.random.seed(0)\n",
    "\n",
    "# randomly initialize weights\n",
    "W1 = np.random.uniform(low=-0.5,high=0.5,size=(S1,R))\n",
    "# randomly initialize bias\n",
    "b1 = np.random.uniform(low=-0.5,high=0.5,size=(S1,1))\n",
    "W2 = np.random.uniform(low=-0.5,high=0.5,size=(S2,S1))\n",
    "b2 = np.random.uniform(low=-0.5,high=0.5,size=(S2,1))"
   ]
  },
  {
   "cell_type": "code",
   "execution_count": 18,
   "metadata": {
    "collapsed": true
   },
   "outputs": [],
   "source": [
    "# initialize a zero vector of errors for each output-target\n",
    "\n",
    "# error vector for each input\n",
    "e = np.zeros(len(g))\n",
    "# error vector for MSE in each epoch\n",
    "MSE = np.zeros(shape=(1,epochs))"
   ]
  },
  {
   "cell_type": "code",
   "execution_count": 19,
   "metadata": {
    "collapsed": true
   },
   "outputs": [],
   "source": [
    "# ----------- Train the network -----------\n",
    "\n",
    "# for each epoch \n",
    "for epoch in range(epochs):\n",
    "    # for each input\n",
    "    for i in range(p.shape[0]):\n",
    "        # 1) propagate input forward\n",
    "        n1 = W1 * p[i] + b1\n",
    "        a1 = logsig(n1)\n",
    "        n2 = W2.dot(a1) + b2\n",
    "        a2 = purelin(n2)\n",
    "        # 2) calculate the error\n",
    "        # difference between g(p_{i}) and a2 (network output)\n",
    "        e[i] = g[i] - a2\n",
    "        # 3) Backprop sensitivities\n",
    "        g_logsig = logsig_grad(a1)\n",
    "        f1_dot = np.diagflat(g_logsig)\n",
    "        f2_dot = purelin_grad(a2)\n",
    "        s2 = -2 * f2_dot * e[i]\n",
    "        s1 = f1_dot.dot(W2.transpose()) * s2\n",
    "        # 4) Update weight and bias\n",
    "        W2 = W2 - alpha * s2 * a1.transpose()\n",
    "        W1 = W1 - alpha * s1 * p[i].transpose()\n",
    "        b2 = b2 - alpha * s2\n",
    "        b1 = b1 - alpha * s1\n",
    "    MSE[0, epoch] = e.transpose().dot(e)"
   ]
  },
  {
   "cell_type": "code",
   "execution_count": 22,
   "metadata": {},
   "outputs": [
    {
     "data": {
      "image/png": "[encoded data removed]",
      "text/plain": [
       "<Figure size 576x432 with 1 Axes>"
      ]
     },
     "metadata": {},
     "output_type": "display_data"
    }
   ],
   "source": [
    "plt.figure(figsize=(8,6))\n",
    "plt.plot(np.arange(1,epochs+1), MSE[0,:], ls='-')\n",
    "plt.title('Mean Square Error by Epoch, S = 10')\n",
    "plt.xlabel('Epoch')\n",
    "plt.ylabel('Mean Square Error')\n",
    "#plt.ylim(0,6)\n",
    "plt.show()"
   ]
  },
  {
   "cell_type": "code",
   "execution_count": 23,
   "metadata": {
    "collapsed": true
   },
   "outputs": [],
   "source": [
    "# empty vector for trained network output\n",
    "a_S10 = np.ones(shape=(p.shape))\n",
    "\n",
    "# calculate network output\n",
    "for i in range(p.shape[0]):\n",
    "    n1 = W1 * p[i] + b1\n",
    "    a1 = logsig(n1)\n",
    "    n2 = W2.dot(a1) + b2\n",
    "    a_S10[i] = purelin(n2)"
   ]
  },
  {
   "cell_type": "code",
   "execution_count": 24,
   "metadata": {},
   "outputs": [
    {
     "data": {
      "image/png": "[encoded data removed]",
      "text/plain": [
       "<Figure size 576x432 with 1 Axes>"
      ]
     },
     "metadata": {},
     "output_type": "display_data"
    }
   ],
   "source": [
    "plt.figure(figsize=(8,6))\n",
    "plt.plot(p, g, label='Actual', color='green')\n",
    "plt.plot(p, a_S2, label='1-S2-1 Network', color='blue')\n",
    "plt.plot(p, a_S10, label='1-S10-1 Network', color='red')\n",
    "plt.title(\"Network Approximation, S = 10\")\n",
    "plt.xlabel(\"p\")\n",
    "plt.ylabel(\"g(p)\")\n",
    "plt.xlim((-2,2))\n",
    "plt.ylim((-0.67, 0.67))\n",
    "#plt.tight_layout()\n",
    "plt.legend(loc='best')\n",
    "plt.show()"
   ]
  },
  {
   "cell_type": "code",
   "execution_count": null,
   "metadata": {
    "collapsed": true
   },
   "outputs": [],
   "source": []
  }
 ],
 "metadata": {
  "kernelspec": {
   "display_name": "Python 3",
   "language": "python",
   "name": "python3"
  },
  "language_info": {
   "codemirror_mode": {
    "name": "ipython",
    "version": 3
   },
   "file_extension": ".py",
   "mimetype": "text/x-python",
   "name": "python",
   "nbconvert_exporter": "python",
   "pygments_lexer": "ipython3",
   "version": "3.6.3"
  }
 },
 "nbformat": 4,
 "nbformat_minor": 2
}
